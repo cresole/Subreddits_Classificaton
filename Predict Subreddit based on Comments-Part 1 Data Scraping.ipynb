{
 "cells": [
  {
   "cell_type": "markdown",
   "metadata": {
    "focus": false,
    "id": "69b9a648-bcc7-490d-9f9b-ea244d156bd6"
   },
   "source": [
    "# Using Reddit's API for Predicting Comments - Part 1\n",
    "# Data Scraping"
   ]
  },
  {
   "cell_type": "markdown",
   "metadata": {
    "ExecuteTime": {
     "end_time": "2017-10-23T19:28:02.619411Z",
     "start_time": "2017-10-23T19:28:02.600856Z"
    }
   },
   "source": [
    "Problem statement: What characteristics of a post on Reddit contribute most to what subreddit it belongs to?\n",
    "\n",
    "We plan to use JSON to scrape threads of two subreddits from reddit.com and build a classification model using Natural Language Processing, Random Forest and Logistic Regression Classification to predict which subreddit a given post belongs to."
   ]
  },
  {
   "cell_type": "markdown",
   "metadata": {
    "focus": false,
    "id": "a948d79c-5527-4c0d-ab23-f5d43ce72056"
   },
   "source": [
    "### Scraping Thread Info from Reddit.com"
   ]
  },
  {
   "cell_type": "code",
   "execution_count": 258,
   "metadata": {},
   "outputs": [],
   "source": [
    "import requests\n",
    "import json\n",
    "\n",
    "URL = \"http://www.reddit.com/r/boardgames.json\"\n",
    "\n",
    "res = requests.get(URL, headers={'User-agent': 'YOUR NAME Bot 0.1'})\n",
    "\n",
    "res"
   ]
  },
  {
   "cell_type": "code",
   "execution_count": 260,
   "metadata": {},
   "outputs": [
    {
     "data": {
      "text/plain": [
       "'t3_9ee99l'"
      ]
     },
     "execution_count": 260,
     "metadata": {},
     "output_type": "execute_result"
    }
   ],
   "source": [
    "data = res.json()\n",
    "\n",
    "data['data']['after']"
   ]
  },
  {
   "cell_type": "markdown",
   "metadata": {},
   "source": [
    "#### Scrape  \"BoardGames\" subrredit"
   ]
  },
  {
   "cell_type": "code",
   "execution_count": 261,
   "metadata": {
    "scrolled": false
   },
   "outputs": [
    {
     "name": "stdout",
     "output_type": "stream",
     "text": [
      "200\n",
      "after =  t3_9ee99l\n",
      "200\n",
      "after =  t3_9eb8vn\n",
      "200\n",
      "after =  t3_9e6xw6\n",
      "200\n",
      "after =  t3_9e2s8w\n",
      "200\n",
      "after =  t3_9dw6ae\n",
      "200\n",
      "after =  t3_9dqdct\n",
      "200\n",
      "after =  t3_9df4zm\n",
      "200\n",
      "after =  t3_9de9il\n",
      "200\n",
      "after =  t3_9davlb\n",
      "200\n",
      "after =  t3_9cub5g\n",
      "200\n",
      "after =  t3_9cvytt\n",
      "200\n",
      "after =  t3_9cyc9j\n",
      "200\n",
      "after =  t3_9csyye\n",
      "200\n",
      "after =  t3_9cgoa0\n",
      "200\n",
      "after =  t3_9cbiai\n",
      "200\n",
      "after =  t3_9c411f\n",
      "200\n",
      "after =  t3_9bvh8u\n",
      "200\n",
      "after =  t3_9bvn66\n",
      "200\n",
      "after =  t3_9bpo35\n",
      "200\n",
      "after =  t3_9blekr\n",
      "200\n",
      "after =  t3_9b9snk\n",
      "200\n",
      "after =  t3_9bdryi\n",
      "200\n",
      "after =  t3_9b9zoj\n",
      "200\n",
      "after =  t3_9b30yc\n",
      "200\n",
      "after =  t3_9asvbt\n",
      "200\n",
      "after =  t3_9avwxj\n",
      "200\n",
      "after =  t3_9af2bk\n",
      "200\n",
      "after =  t3_9ahnbr\n",
      "200\n",
      "after =  t3_9aa8m9\n",
      "200\n",
      "after =  t3_9a26az\n",
      "200\n",
      "after =  t3_9a1nm8\n",
      "200\n",
      "after =  t3_99ymb1\n",
      "200\n",
      "after =  t3_99qhpm\n",
      "200\n",
      "after =  t3_99m2oy\n",
      "200\n",
      "after =  t3_99h30v\n",
      "200\n",
      "after =  t3_99csgu\n",
      "200\n",
      "after =  t3_995aqj\n",
      "200\n"
     ]
    }
   ],
   "source": [
    "import time\n",
    "url = \"http://www.reddit.com/r/boardgames.json\"\n",
    "headers = {'User-agent': 'Li-Zhong'}\n",
    "params = {}\n",
    "all_posts = []\n",
    "\n",
    "for _ in range(50):\n",
    "    res = requests.get(url, headers=headers, params=params)\n",
    "    res.raise_for_status()\n",
    "    print(res.status_code)\n",
    "    if res.status_code == 200:\n",
    "        data = res.json() \n",
    "        all_posts += data['data']['children']\n",
    "        after = data['data']['after']\n",
    "        if after == None:\n",
    "            break\n",
    "        else:\n",
    "            params['after'] = after\n",
    "            print(\"after = \", params['after'])\n",
    "\n",
    "    elif res == 404:\n",
    "        print('404 error: not found')\n",
    "        break\n",
    "\n",
    "        "
   ]
  },
  {
   "cell_type": "code",
   "execution_count": 264,
   "metadata": {},
   "outputs": [
    {
     "data": {
      "text/plain": [
       "940"
      ]
     },
     "execution_count": 264,
     "metadata": {},
     "output_type": "execute_result"
    }
   ],
   "source": [
    "len(all_posts)"
   ]
  },
  {
   "cell_type": "code",
   "execution_count": 265,
   "metadata": {},
   "outputs": [],
   "source": [
    "pd.DataFrame(all_posts).to_csv(\"./list_of_posts_boardgame.csv\")"
   ]
  },
  {
   "cell_type": "markdown",
   "metadata": {
    "scrolled": false
   },
   "source": [
    "#### Scrape \"TrueReddit\" subrredit"
   ]
  },
  {
   "cell_type": "code",
   "execution_count": 266,
   "metadata": {
    "scrolled": true
   },
   "outputs": [
    {
     "name": "stdout",
     "output_type": "stream",
     "text": [
      "200\n",
      "after =  t3_9dtqyi\n",
      "t3_9dtqyi\n",
      "200\n",
      "after =  t3_9dhck4\n",
      "t3_9dhck4\n",
      "200\n",
      "after =  t3_9cys3t\n",
      "t3_9cys3t\n",
      "200\n",
      "after =  t3_9bvjjn\n",
      "t3_9bvjjn\n",
      "200\n",
      "after =  t3_9bq74l\n",
      "t3_9bq74l\n",
      "200\n",
      "after =  t3_9b6fmg\n",
      "t3_9b6fmg\n",
      "200\n",
      "after =  t3_9b1z1s\n",
      "t3_9b1z1s\n",
      "200\n",
      "after =  t3_9aqeu0\n",
      "t3_9aqeu0\n",
      "200\n",
      "after =  t3_9a7x41\n",
      "t3_9a7x41\n",
      "200\n",
      "after =  t3_99b6yl\n",
      "t3_99b6yl\n",
      "200\n",
      "after =  t3_992j50\n",
      "t3_992j50\n",
      "200\n",
      "after =  t3_98ps5h\n",
      "t3_98ps5h\n",
      "200\n",
      "after =  t3_981wkf\n",
      "t3_981wkf\n",
      "200\n",
      "after =  t3_97lrmd\n",
      "t3_97lrmd\n",
      "200\n",
      "after =  t3_971emh\n",
      "t3_971emh\n",
      "200\n",
      "after =  t3_970asq\n",
      "t3_970asq\n",
      "200\n",
      "after =  t3_96b43t\n",
      "t3_96b43t\n",
      "200\n",
      "after =  t3_962qbn\n",
      "t3_962qbn\n",
      "200\n",
      "after =  t3_95j3me\n",
      "t3_95j3me\n",
      "200\n",
      "after =  t3_94y87f\n",
      "t3_94y87f\n",
      "200\n",
      "after =  t3_9530gf\n",
      "t3_9530gf\n",
      "200\n",
      "after =  t3_94bvaj\n",
      "t3_94bvaj\n",
      "200\n",
      "after =  t3_94220b\n",
      "t3_94220b\n",
      "200\n",
      "after =  t3_93u7e4\n",
      "t3_93u7e4\n",
      "200\n",
      "after =  t3_939hyc\n",
      "t3_939hyc\n",
      "200\n",
      "after =  t3_9307ra\n",
      "t3_9307ra\n",
      "200\n",
      "after =  t3_92nuy3\n",
      "t3_92nuy3\n",
      "200\n",
      "after =  t3_92lch2\n",
      "t3_92lch2\n",
      "200\n",
      "after =  t3_91sjdl\n",
      "t3_91sjdl\n",
      "200\n",
      "after =  t3_91lcsx\n",
      "t3_91lcsx\n",
      "200\n",
      "after =  t3_90xfh2\n",
      "t3_90xfh2\n",
      "200\n",
      "after =  t3_90qm9b\n",
      "t3_90qm9b\n",
      "200\n",
      "after =  t3_907j3n\n",
      "t3_907j3n\n",
      "200\n",
      "after =  t3_8zurq5\n",
      "t3_8zurq5\n",
      "200\n",
      "after =  t3_8ytqxe\n",
      "t3_8ytqxe\n",
      "200\n",
      "after =  t3_8ym5xe\n",
      "t3_8ym5xe\n",
      "200\n",
      "after =  t3_8y95vu\n",
      "t3_8y95vu\n",
      "200\n",
      "after =  t3_8xp9t8\n",
      "t3_8xp9t8\n",
      "200\n",
      "after =  None\n"
     ]
    }
   ],
   "source": [
    "import time\n",
    "url_2 = \"http://www.reddit.com/r/TrueReddit.json\"\n",
    "headers = {'User-agent': 'Li-Zhong'}\n",
    "params = {}\n",
    "all_posts_2 = []\n",
    "\n",
    "for _ in range(50):\n",
    "    res_2 = requests.get(url_2, headers=headers, params=params)\n",
    "    res_2.raise_for_status()\n",
    "    print(res_2.status_code)\n",
    "    if res_2.status_code == 200:\n",
    "        data_2 = res_2.json() \n",
    "        all_posts_2 += data_2['data']['children']\n",
    "        after = data_2['data']['after']\n",
    "        print(\"after = \", after)\n",
    "        if after == None:\n",
    "            break\n",
    "        else:\n",
    "            params['after'] = after\n",
    "            print(params['after'])\n",
    "\n",
    "    elif res_2 == 404:\n",
    "        print('404 error: not found')\n",
    "        break\n",
    "        "
   ]
  },
  {
   "cell_type": "code",
   "execution_count": 267,
   "metadata": {},
   "outputs": [],
   "source": [
    "res = requests.get(url=url_2,headers=headers,params={'after':'t3_8vhmb1'})"
   ]
  },
  {
   "cell_type": "code",
   "execution_count": 268,
   "metadata": {},
   "outputs": [],
   "source": [
    "res.json()['data']['after']"
   ]
  },
  {
   "cell_type": "code",
   "execution_count": 269,
   "metadata": {},
   "outputs": [
    {
     "data": {
      "text/plain": [
       "963"
      ]
     },
     "execution_count": 269,
     "metadata": {},
     "output_type": "execute_result"
    }
   ],
   "source": [
    "len(all_posts_2)"
   ]
  },
  {
   "cell_type": "code",
   "execution_count": 270,
   "metadata": {},
   "outputs": [],
   "source": [
    "pd.DataFrame(all_posts_2).to_csv(\"./list_of_posts_true_reddit.csv\")"
   ]
  }
 ],
 "metadata": {
  "anaconda-cloud": {},
  "kernelspec": {
   "display_name": "Python [default]",
   "language": "python",
   "name": "python3"
  },
  "language_info": {
   "codemirror_mode": {
    "name": "ipython",
    "version": 3
   },
   "file_extension": ".py",
   "mimetype": "text/x-python",
   "name": "python",
   "nbconvert_exporter": "python",
   "pygments_lexer": "ipython3",
   "version": "3.6.5"
  },
  "varInspector": {
   "cols": {
    "lenName": 16,
    "lenType": 16,
    "lenVar": 40
   },
   "kernels_config": {
    "python": {
     "delete_cmd_postfix": "",
     "delete_cmd_prefix": "del ",
     "library": "var_list.py",
     "varRefreshCmd": "print(var_dic_list())"
    },
    "r": {
     "delete_cmd_postfix": ") ",
     "delete_cmd_prefix": "rm(",
     "library": "var_list.r",
     "varRefreshCmd": "cat(var_dic_list()) "
    }
   },
   "types_to_exclude": [
    "module",
    "function",
    "builtin_function_or_method",
    "instance",
    "_Feature"
   ],
   "window_display": false
  }
 },
 "nbformat": 4,
 "nbformat_minor": 1
}
